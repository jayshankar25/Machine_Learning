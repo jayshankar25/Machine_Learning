{
 "cells": [
  {
   "cell_type": "markdown",
   "metadata": {},
   "source": [
    "## NLP :-\n",
    "\n",
    "   - Tokenization\n",
    "   - Bigram , Trigram and Ngram\n",
    "   - POS Tagging\n",
    "   - Named Entity Reconization\n",
    "   - chunking ( parse_tree )\n",
    "   - Stemming\n",
    "   - Lemmatization\n",
    "   - Removing Stopwords\n",
    "   - Bag of words."
   ]
  },
  {
   "cell_type": "code",
   "execution_count": 1,
   "metadata": {},
   "outputs": [],
   "source": [
    "import nltk\n"
   ]
  },
  {
   "cell_type": "code",
   "execution_count": 2,
   "metadata": {},
   "outputs": [
    {
     "name": "stdout",
     "output_type": "stream",
     "text": [
      "showing info https://raw.githubusercontent.com/nltk/nltk_data/gh-pages/index.xml\n"
     ]
    },
    {
     "data": {
      "text/plain": [
       "True"
      ]
     },
     "execution_count": 2,
     "metadata": {},
     "output_type": "execute_result"
    }
   ],
   "source": [
    "nltk.download()"
   ]
  },
  {
   "cell_type": "markdown",
   "metadata": {},
   "source": [
    "#### Tokenization \n",
    "   - Tokenization is the process of converting a sentence or paragraph in token (word)\n",
    "       "
   ]
  },
  {
   "cell_type": "code",
   "execution_count": 3,
   "metadata": {},
   "outputs": [
    {
     "data": {
      "text/plain": [
       "['Mary', 'is', 'driving', 'a', 'car']"
      ]
     },
     "execution_count": 3,
     "metadata": {},
     "output_type": "execute_result"
    }
   ],
   "source": [
    "# example 1 :- word Tokenization\n",
    "\n",
    "sent1 = 'Mary is driving a car'\n",
    "\n",
    "sent1_token = nltk.word_tokenize(sent1)\n",
    "\n",
    "sent1_token"
   ]
  },
  {
   "cell_type": "code",
   "execution_count": 4,
   "metadata": {},
   "outputs": [
    {
     "data": {
      "text/plain": [
       "['After',\n",
       " 'surprising',\n",
       " 'the',\n",
       " 'hosts',\n",
       " 'in',\n",
       " 'the',\n",
       " 'first',\n",
       " 'Test',\n",
       " ',',\n",
       " 'Sri',\n",
       " 'Lanka',\n",
       " 'made',\n",
       " 'a',\n",
       " 'positive',\n",
       " 'start',\n",
       " 'to',\n",
       " 'the',\n",
       " 'second',\n",
       " 'Test',\n",
       " 'as',\n",
       " 'well',\n",
       " 'by',\n",
       " 'bowling']"
      ]
     },
     "execution_count": 4,
     "metadata": {},
     "output_type": "execute_result"
    }
   ],
   "source": [
    "# Example :-4 \n",
    "from nltk.tokenize import word_tokenize\n",
    "\n",
    "cricket = \"After surprising the hosts in the first Test, Sri Lanka made a positive start to the second Test as well by bowling\"\n",
    "\n",
    "cricket_token = word_tokenize(cricket)\n",
    "\n",
    "cricket_token"
   ]
  },
  {
   "cell_type": "code",
   "execution_count": 5,
   "metadata": {},
   "outputs": [
    {
     "data": {
      "text/plain": [
       "(list, 23)"
      ]
     },
     "execution_count": 5,
     "metadata": {},
     "output_type": "execute_result"
    }
   ],
   "source": [
    "# check the type and number of token\n",
    "\n",
    "type(cricket_token),len(cricket_token)"
   ]
  },
  {
   "cell_type": "code",
   "execution_count": 6,
   "metadata": {},
   "outputs": [
    {
     "data": {
      "text/plain": [
       "FreqDist({'the': 3, 'Test': 2, 'After': 1, 'surprising': 1, 'hosts': 1, 'in': 1, 'first': 1, ',': 1, 'Sri': 1, 'Lanka': 1, ...})"
      ]
     },
     "execution_count": 6,
     "metadata": {},
     "output_type": "execute_result"
    }
   ],
   "source": [
    "# frequency of tokens :\n",
    "\n",
    "from nltk.probability import FreqDist\n",
    "\n",
    "fdist = FreqDist()\n",
    "\n",
    "for i in cricket_token :\n",
    "    fdist[i] = fdist[i] + 1\n",
    "    \n",
    "fdist"
   ]
  },
  {
   "cell_type": "code",
   "execution_count": 7,
   "metadata": {},
   "outputs": [
    {
     "data": {
      "text/plain": [
       "[('the', 3),\n",
       " ('Test', 2),\n",
       " ('After', 1),\n",
       " ('surprising', 1),\n",
       " ('hosts', 1),\n",
       " ('in', 1),\n",
       " ('first', 1),\n",
       " (',', 1),\n",
       " ('Sri', 1),\n",
       " ('Lanka', 1)]"
      ]
     },
     "execution_count": 7,
     "metadata": {},
     "output_type": "execute_result"
    }
   ],
   "source": [
    "# top 10 most common tokens\n",
    "\n",
    "top_10 = fdist.most_common(10)\n",
    "\n",
    "top_10"
   ]
  },
  {
   "cell_type": "markdown",
   "metadata": {},
   "source": [
    "## bigram , trigram and ngrams"
   ]
  },
  {
   "cell_type": "code",
   "execution_count": 8,
   "metadata": {},
   "outputs": [],
   "source": [
    "# string\n",
    "black_smoke = \"Did you know there was a tower , where they look out to the land,To see the people quickly passing by\""
   ]
  },
  {
   "cell_type": "code",
   "execution_count": 9,
   "metadata": {},
   "outputs": [
    {
     "data": {
      "text/plain": [
       "['Did',\n",
       " 'you',\n",
       " 'know',\n",
       " 'there',\n",
       " 'was',\n",
       " 'a',\n",
       " 'tower',\n",
       " ',',\n",
       " 'where',\n",
       " 'they',\n",
       " 'look',\n",
       " 'out',\n",
       " 'to',\n",
       " 'the',\n",
       " 'land',\n",
       " ',',\n",
       " 'To',\n",
       " 'see',\n",
       " 'the',\n",
       " 'people',\n",
       " 'quickly',\n",
       " 'passing',\n",
       " 'by']"
      ]
     },
     "execution_count": 9,
     "metadata": {},
     "output_type": "execute_result"
    }
   ],
   "source": [
    "# tokenization \n",
    "\n",
    "black_smoke_token = word_tokenize(black_smoke)\n",
    "black_smoke_token"
   ]
  },
  {
   "cell_type": "code",
   "execution_count": 10,
   "metadata": {},
   "outputs": [
    {
     "data": {
      "text/plain": [
       "[('Did', 'you'),\n",
       " ('you', 'know'),\n",
       " ('know', 'there'),\n",
       " ('there', 'was'),\n",
       " ('was', 'a'),\n",
       " ('a', 'tower'),\n",
       " ('tower', ','),\n",
       " (',', 'where'),\n",
       " ('where', 'they'),\n",
       " ('they', 'look'),\n",
       " ('look', 'out'),\n",
       " ('out', 'to'),\n",
       " ('to', 'the'),\n",
       " ('the', 'land'),\n",
       " ('land', ','),\n",
       " (',', 'To'),\n",
       " ('To', 'see'),\n",
       " ('see', 'the'),\n",
       " ('the', 'people'),\n",
       " ('people', 'quickly'),\n",
       " ('quickly', 'passing'),\n",
       " ('passing', 'by')]"
      ]
     },
     "execution_count": 10,
     "metadata": {},
     "output_type": "execute_result"
    }
   ],
   "source": [
    "# bigrams\n",
    "\n",
    "list(nltk.bigrams(black_smoke_token))"
   ]
  },
  {
   "cell_type": "code",
   "execution_count": 11,
   "metadata": {},
   "outputs": [
    {
     "data": {
      "text/plain": [
       "[('Did', 'you', 'know'),\n",
       " ('you', 'know', 'there'),\n",
       " ('know', 'there', 'was'),\n",
       " ('there', 'was', 'a'),\n",
       " ('was', 'a', 'tower'),\n",
       " ('a', 'tower', ','),\n",
       " ('tower', ',', 'where'),\n",
       " (',', 'where', 'they'),\n",
       " ('where', 'they', 'look'),\n",
       " ('they', 'look', 'out'),\n",
       " ('look', 'out', 'to'),\n",
       " ('out', 'to', 'the'),\n",
       " ('to', 'the', 'land'),\n",
       " ('the', 'land', ','),\n",
       " ('land', ',', 'To'),\n",
       " (',', 'To', 'see'),\n",
       " ('To', 'see', 'the'),\n",
       " ('see', 'the', 'people'),\n",
       " ('the', 'people', 'quickly'),\n",
       " ('people', 'quickly', 'passing'),\n",
       " ('quickly', 'passing', 'by')]"
      ]
     },
     "execution_count": 11,
     "metadata": {},
     "output_type": "execute_result"
    }
   ],
   "source": [
    "# trigrams\n",
    "\n",
    "list(nltk.trigrams(black_smoke_token))"
   ]
  },
  {
   "cell_type": "code",
   "execution_count": 12,
   "metadata": {},
   "outputs": [
    {
     "data": {
      "text/plain": [
       "[('Did', 'you', 'know', 'there'),\n",
       " ('you', 'know', 'there', 'was'),\n",
       " ('know', 'there', 'was', 'a'),\n",
       " ('there', 'was', 'a', 'tower'),\n",
       " ('was', 'a', 'tower', ','),\n",
       " ('a', 'tower', ',', 'where'),\n",
       " ('tower', ',', 'where', 'they'),\n",
       " (',', 'where', 'they', 'look'),\n",
       " ('where', 'they', 'look', 'out'),\n",
       " ('they', 'look', 'out', 'to'),\n",
       " ('look', 'out', 'to', 'the'),\n",
       " ('out', 'to', 'the', 'land'),\n",
       " ('to', 'the', 'land', ','),\n",
       " ('the', 'land', ',', 'To'),\n",
       " ('land', ',', 'To', 'see'),\n",
       " (',', 'To', 'see', 'the'),\n",
       " ('To', 'see', 'the', 'people'),\n",
       " ('see', 'the', 'people', 'quickly'),\n",
       " ('the', 'people', 'quickly', 'passing'),\n",
       " ('people', 'quickly', 'passing', 'by')]"
      ]
     },
     "execution_count": 12,
     "metadata": {},
     "output_type": "execute_result"
    }
   ],
   "source": [
    "# ngrams\n",
    "\n",
    "list(nltk.ngrams(black_smoke_token , 4))"
   ]
  },
  {
   "cell_type": "markdown",
   "metadata": {},
   "source": [
    "###  Stemming :-"
   ]
  },
  {
   "cell_type": "code",
   "execution_count": 13,
   "metadata": {},
   "outputs": [],
   "source": [
    "from nltk.stem import PorterStemmer\n",
    "\n",
    "stemmer = PorterStemmer()"
   ]
  },
  {
   "cell_type": "code",
   "execution_count": 14,
   "metadata": {},
   "outputs": [
    {
     "data": {
      "text/plain": [
       "('win', 'studi', 'buy')"
      ]
     },
     "execution_count": 14,
     "metadata": {},
     "output_type": "execute_result"
    }
   ],
   "source": [
    "stemmer.stem(\"winning\"),stemmer.stem('studies'),stemmer.stem('buying')"
   ]
  },
  {
   "cell_type": "code",
   "execution_count": null,
   "metadata": {},
   "outputs": [],
   "source": []
  },
  {
   "cell_type": "code",
   "execution_count": null,
   "metadata": {},
   "outputs": [],
   "source": []
  },
  {
   "cell_type": "code",
   "execution_count": null,
   "metadata": {},
   "outputs": [],
   "source": []
  },
  {
   "cell_type": "markdown",
   "metadata": {},
   "source": [
    "### lemmatization"
   ]
  },
  {
   "cell_type": "code",
   "execution_count": 15,
   "metadata": {},
   "outputs": [],
   "source": [
    "from nltk.stem import WordNetLemmatizer\n",
    "\n",
    "lemmatizer = WordNetLemmatizer()"
   ]
  },
  {
   "cell_type": "code",
   "execution_count": 16,
   "metadata": {},
   "outputs": [],
   "source": [
    "words_to_stem = ['cats','cacti','gesse']"
   ]
  },
  {
   "cell_type": "code",
   "execution_count": 17,
   "metadata": {},
   "outputs": [
    {
     "name": "stdout",
     "output_type": "stream",
     "text": [
      "cats : cat\n",
      "cacti : cactus\n",
      "gesse : gesse\n"
     ]
    }
   ],
   "source": [
    "for i in words_to_stem :\n",
    "    print(i + ' : ' + lemmatizer.lemmatize(i))"
   ]
  },
  {
   "cell_type": "code",
   "execution_count": null,
   "metadata": {},
   "outputs": [],
   "source": []
  },
  {
   "cell_type": "code",
   "execution_count": null,
   "metadata": {},
   "outputs": [],
   "source": []
  },
  {
   "cell_type": "code",
   "execution_count": null,
   "metadata": {},
   "outputs": [],
   "source": []
  },
  {
   "cell_type": "markdown",
   "metadata": {},
   "source": [
    "## pos tagging"
   ]
  },
  {
   "cell_type": "code",
   "execution_count": 18,
   "metadata": {},
   "outputs": [
    {
     "data": {
      "text/plain": [
       "['What',\n",
       " 'do',\n",
       " 'you',\n",
       " 'mean',\n",
       " ',',\n",
       " \"'\",\n",
       " 'I',\n",
       " 'do',\n",
       " 'not',\n",
       " 'believe',\n",
       " 'in',\n",
       " 'god',\n",
       " \"'\",\n",
       " '?',\n",
       " 'I',\n",
       " 'talk',\n",
       " 'to',\n",
       " 'him',\n",
       " 'everyday',\n",
       " '.']"
      ]
     },
     "execution_count": 18,
     "metadata": {},
     "output_type": "execute_result"
    }
   ],
   "source": [
    "# example -1\n",
    "peace = \"What do you mean, 'I do not believe in god ' ? I talk to him everyday .\"\n",
    "\n",
    "# tokenization\n",
    "\n",
    "peace_token = word_tokenize(peace)\n",
    "\n",
    "peace_token"
   ]
  },
  {
   "cell_type": "code",
   "execution_count": 19,
   "metadata": {},
   "outputs": [
    {
     "name": "stdout",
     "output_type": "stream",
     "text": [
      "[('What', 'WP')]\n",
      "[('do', 'VB')]\n",
      "[('you', 'PRP')]\n",
      "[('mean', 'NN')]\n",
      "[(',', ',')]\n",
      "[(\"'\", \"''\")]\n",
      "[('I', 'PRP')]\n",
      "[('do', 'VB')]\n",
      "[('not', 'RB')]\n",
      "[('believe', 'VB')]\n",
      "[('in', 'IN')]\n",
      "[('god', 'NN')]\n",
      "[(\"'\", \"''\")]\n",
      "[('?', '.')]\n",
      "[('I', 'PRP')]\n",
      "[('talk', 'NN')]\n",
      "[('to', 'TO')]\n",
      "[('him', 'PRP')]\n",
      "[('everyday', 'NN')]\n",
      "[('.', '.')]\n"
     ]
    }
   ],
   "source": [
    "for i in peace_token :\n",
    "    print(nltk.pos_tag([i]))"
   ]
  },
  {
   "cell_type": "code",
   "execution_count": 20,
   "metadata": {},
   "outputs": [],
   "source": [
    "# Example-2\n",
    "\n",
    "mary = 'Mary had a little lamb , whom she really loved'"
   ]
  },
  {
   "cell_type": "code",
   "execution_count": 21,
   "metadata": {},
   "outputs": [
    {
     "data": {
      "text/plain": [
       "['Mary', 'had', 'a', 'little', 'lamb', ',', 'whom', 'she', 'really', 'loved']"
      ]
     },
     "execution_count": 21,
     "metadata": {},
     "output_type": "execute_result"
    }
   ],
   "source": [
    "mary_token = word_tokenize(mary)\n",
    "mary_token"
   ]
  },
  {
   "cell_type": "code",
   "execution_count": 22,
   "metadata": {},
   "outputs": [
    {
     "name": "stdout",
     "output_type": "stream",
     "text": [
      "[('Mary', 'NNP')]\n",
      "[('had', 'VBD')]\n",
      "[('a', 'DT')]\n",
      "[('little', 'JJ')]\n",
      "[('lamb', 'NN')]\n",
      "[(',', ',')]\n",
      "[('whom', 'WP')]\n",
      "[('she', 'PRP')]\n",
      "[('really', 'RB')]\n",
      "[('loved', 'VBN')]\n"
     ]
    }
   ],
   "source": [
    "for i in mary_token :\n",
    "    print(nltk.pos_tag([i]))"
   ]
  },
  {
   "cell_type": "code",
   "execution_count": null,
   "metadata": {},
   "outputs": [],
   "source": []
  },
  {
   "cell_type": "code",
   "execution_count": null,
   "metadata": {},
   "outputs": [],
   "source": []
  },
  {
   "cell_type": "code",
   "execution_count": null,
   "metadata": {},
   "outputs": [],
   "source": []
  },
  {
   "cell_type": "code",
   "execution_count": null,
   "metadata": {},
   "outputs": [],
   "source": []
  },
  {
   "cell_type": "markdown",
   "metadata": {},
   "source": [
    "## Name Entity Recognization"
   ]
  },
  {
   "cell_type": "code",
   "execution_count": 23,
   "metadata": {},
   "outputs": [],
   "source": [
    "from nltk import ne_chunk"
   ]
  },
  {
   "cell_type": "code",
   "execution_count": 24,
   "metadata": {},
   "outputs": [],
   "source": [
    "#Example :- 1\n",
    "\n",
    "str1 = 'JayShankar lives in Bangalore'"
   ]
  },
  {
   "cell_type": "code",
   "execution_count": 25,
   "metadata": {},
   "outputs": [
    {
     "data": {
      "text/plain": [
       "['JayShankar', 'lives', 'in', 'Bangalore']"
      ]
     },
     "execution_count": 25,
     "metadata": {},
     "output_type": "execute_result"
    }
   ],
   "source": [
    "# tokenization\n",
    "\n",
    "str1_token = word_tokenize(str1)\n",
    "str1_token"
   ]
  },
  {
   "cell_type": "code",
   "execution_count": 26,
   "metadata": {},
   "outputs": [
    {
     "data": {
      "text/plain": [
       "[('JayShankar', 'NNP'), ('lives', 'VBZ'), ('in', 'IN'), ('Bangalore', 'NNP')]"
      ]
     },
     "execution_count": 26,
     "metadata": {},
     "output_type": "execute_result"
    }
   ],
   "source": [
    "# pos tagging\n",
    "\n",
    "str1_tags = nltk.pos_tag(str1_token)\n",
    "str1_tags"
   ]
  },
  {
   "cell_type": "code",
   "execution_count": 27,
   "metadata": {},
   "outputs": [
    {
     "name": "stdout",
     "output_type": "stream",
     "text": [
      "(S (ORGANIZATION JayShankar/NNP) lives/VBZ in/IN (GPE Bangalore/NNP))\n"
     ]
    }
   ],
   "source": [
    "str1_ner = ne_chunk(str1_tags)\n",
    "print(str1_ner)"
   ]
  },
  {
   "cell_type": "code",
   "execution_count": 28,
   "metadata": {},
   "outputs": [
    {
     "data": {
      "image/png": "[encoded data removed]",
      "text/plain": [
       "Tree('S', [Tree('ORGANIZATION', [('JayShankar', 'NNP')]), ('lives', 'VBZ'), ('in', 'IN'), Tree('GPE', [('Bangalore', 'NNP')])])"
      ]
     },
     "execution_count": 28,
     "metadata": {},
     "output_type": "execute_result"
    }
   ],
   "source": [
    "str1_ner"
   ]
  },
  {
   "cell_type": "code",
   "execution_count": 30,
   "metadata": {},
   "outputs": [],
   "source": [
    "# example :-2 \n",
    "\n",
    "NE_str = 'The US President stays in the white House'"
   ]
  },
  {
   "cell_type": "code",
   "execution_count": 31,
   "metadata": {},
   "outputs": [
    {
     "data": {
      "text/plain": [
       "['The', 'US', 'President', 'stays', 'in', 'the', 'white', 'House']"
      ]
     },
     "execution_count": 31,
     "metadata": {},
     "output_type": "execute_result"
    }
   ],
   "source": [
    "NE_tokens = word_tokenize(NE_str)\n",
    "NE_tokens"
   ]
  },
  {
   "cell_type": "code",
   "execution_count": 33,
   "metadata": {},
   "outputs": [
    {
     "data": {
      "text/plain": [
       "[('The', 'DT'),\n",
       " ('US', 'NNP'),\n",
       " ('President', 'NNP'),\n",
       " ('stays', 'VBZ'),\n",
       " ('in', 'IN'),\n",
       " ('the', 'DT'),\n",
       " ('white', 'JJ'),\n",
       " ('House', 'NNP')]"
      ]
     },
     "execution_count": 33,
     "metadata": {},
     "output_type": "execute_result"
    }
   ],
   "source": [
    "NE_tags = nltk.pos_tag(NE_tokens)\n",
    "NE_tags"
   ]
  },
  {
   "cell_type": "code",
   "execution_count": 34,
   "metadata": {},
   "outputs": [
    {
     "data": {
      "image/png": "[encoded data removed]",
      "text/plain": [
       "Tree('S', [('The', 'DT'), Tree('ORGANIZATION', [('US', 'NNP')]), ('President', 'NNP'), ('stays', 'VBZ'), ('in', 'IN'), ('the', 'DT'), ('white', 'JJ'), Tree('ORGANIZATION', [('House', 'NNP')])])"
      ]
     },
     "execution_count": 34,
     "metadata": {},
     "output_type": "execute_result"
    }
   ],
   "source": [
    "NE_NER = ne_chunk(NE_tags)\n",
    "NE_NER"
   ]
  },
  {
   "cell_type": "code",
   "execution_count": 35,
   "metadata": {},
   "outputs": [
    {
     "name": "stdout",
     "output_type": "stream",
     "text": [
      "(S\n",
      "  The/DT\n",
      "  (ORGANIZATION US/NNP)\n",
      "  President/NNP\n",
      "  stays/VBZ\n",
      "  in/IN\n",
      "  the/DT\n",
      "  white/JJ\n",
      "  (ORGANIZATION House/NNP))\n"
     ]
    }
   ],
   "source": [
    "print(NE_NER)"
   ]
  },
  {
   "cell_type": "code",
   "execution_count": null,
   "metadata": {},
   "outputs": [],
   "source": []
  },
  {
   "cell_type": "code",
   "execution_count": null,
   "metadata": {},
   "outputs": [],
   "source": []
  },
  {
   "cell_type": "markdown",
   "metadata": {},
   "source": [
    "## parse tree and chunking"
   ]
  },
  {
   "cell_type": "code",
   "execution_count": 36,
   "metadata": {},
   "outputs": [],
   "source": [
    "import nltk\n",
    "from nltk.tokenize import word_tokenize\n",
    "from nltk.tokenize import RegexpTokenizer\n"
   ]
  },
  {
   "cell_type": "code",
   "execution_count": 37,
   "metadata": {},
   "outputs": [
    {
     "data": {
      "text/plain": [
       "['The', 'little', 'mouse', 'ate', 'the', 'fresh', 'cheeze']"
      ]
     },
     "execution_count": 37,
     "metadata": {},
     "output_type": "execute_result"
    }
   ],
   "source": [
    "#example 1\n",
    "\n",
    "sent1 = 'The little mouse ate the fresh cheeze'\n",
    "\n",
    "sent1_tokens = word_tokenize(sent1)\n",
    "sent1_tokens"
   ]
  },
  {
   "cell_type": "code",
   "execution_count": 42,
   "metadata": {},
   "outputs": [
    {
     "name": "stdout",
     "output_type": "stream",
     "text": [
      "[('The', 'DT'), ('little', 'JJ'), ('mouse', 'NN'), ('ate', 'VB'), ('the', 'DT'), ('fresh', 'JJ'), ('cheeze', 'NN')]\n"
     ]
    }
   ],
   "source": [
    "sent1_tags = nltk.pos_tag(sent1_tokens)\n",
    "print(sent1_tags)"
   ]
  },
  {
   "cell_type": "code",
   "execution_count": 43,
   "metadata": {},
   "outputs": [
    {
     "name": "stdout",
     "output_type": "stream",
     "text": [
      "chunk.RegexpParser with 1 stages:\n",
      "RegexpChunkParser with 1 rules:\n",
      "       <ChunkRule: '<DT>?<JJ>*<NN>'>\n"
     ]
    }
   ],
   "source": [
    "grammar_np = r'NP:{<DT>?<JJ>*<NN>}'\n",
    "\n",
    "chunk_parser = nltk.RegexpParser(grammar_np)\n",
    "print(chunk_parser)"
   ]
  },
  {
   "cell_type": "code",
   "execution_count": 44,
   "metadata": {},
   "outputs": [
    {
     "data": {
      "image/png": "[encoded data removed]",
      "text/plain": [
       "Tree('S', [Tree('NP', [('The', 'DT'), ('little', 'JJ'), ('mouse', 'NN')]), ('ate', 'VB'), Tree('NP', [('the', 'DT'), ('fresh', 'JJ'), ('cheeze', 'NN')])])"
      ]
     },
     "execution_count": 44,
     "metadata": {},
     "output_type": "execute_result"
    }
   ],
   "source": [
    "chunk_result = chunk_parser.parse(sent1_tags)\n",
    "\n",
    "chunk_result"
   ]
  },
  {
   "cell_type": "code",
   "execution_count": 45,
   "metadata": {},
   "outputs": [
    {
     "data": {
      "text/plain": [
       "['She', 'is', 'wearing', 'a', 'beautiful', 'dress']"
      ]
     },
     "execution_count": 45,
     "metadata": {},
     "output_type": "execute_result"
    }
   ],
   "source": [
    "# Example 2\n",
    "\n",
    "sent2 = \"She is wearing a beautiful dress\"\n",
    "\n",
    "sent2_tokens = word_tokenize(sent2)\n",
    "sent2_tokens"
   ]
  },
  {
   "cell_type": "code",
   "execution_count": 46,
   "metadata": {},
   "outputs": [
    {
     "data": {
      "text/plain": [
       "[('She', 'PRP'),\n",
       " ('is', 'VBZ'),\n",
       " ('wearing', 'VBG'),\n",
       " ('a', 'DT'),\n",
       " ('beautiful', 'JJ'),\n",
       " ('dress', 'NN')]"
      ]
     },
     "execution_count": 46,
     "metadata": {},
     "output_type": "execute_result"
    }
   ],
   "source": [
    "sent2_tag = nltk.pos_tag(sent2_tokens)\n",
    "sent2_tag"
   ]
  },
  {
   "cell_type": "code",
   "execution_count": 47,
   "metadata": {},
   "outputs": [
    {
     "data": {
      "image/png": "[encoded data removed]",
      "text/plain": [
       "Tree('S', [('She', 'PRP'), ('is', 'VBZ'), ('wearing', 'VBG'), Tree('NP', [('a', 'DT'), ('beautiful', 'JJ'), ('dress', 'NN')])])"
      ]
     },
     "execution_count": 47,
     "metadata": {},
     "output_type": "execute_result"
    }
   ],
   "source": [
    "\n",
    "chunk_result = chunk_parser.parse(sent2_tag)\n",
    "chunk_result"
   ]
  },
  {
   "cell_type": "markdown",
   "metadata": {},
   "source": [
    "## Removing Stopwords"
   ]
  },
  {
   "cell_type": "code",
   "execution_count": 48,
   "metadata": {},
   "outputs": [
    {
     "name": "stderr",
     "output_type": "stream",
     "text": [
      "[nltk_data] Downloading package stopwords to /home/jay/nltk_data...\n",
      "[nltk_data]   Package stopwords is already up-to-date!\n"
     ]
    }
   ],
   "source": [
    "nltk.download('stopwords')\n",
    "from nltk.corpus import stopwords"
   ]
  },
  {
   "cell_type": "code",
   "execution_count": 49,
   "metadata": {},
   "outputs": [
    {
     "data": {
      "text/plain": [
       "['Diwali',\n",
       " 'also',\n",
       " 'called',\n",
       " '“',\n",
       " 'Deepawali',\n",
       " '”',\n",
       " 'is',\n",
       " 'a',\n",
       " 'major',\n",
       " 'Hindu',\n",
       " 'festival',\n",
       " 'of',\n",
       " 'India',\n",
       " '.',\n",
       " 'The',\n",
       " 'festival',\n",
       " 'is',\n",
       " 'celebrated',\n",
       " 'with',\n",
       " 'unequal',\n",
       " 'zeal',\n",
       " 'and',\n",
       " 'pleasure',\n",
       " 'by',\n",
       " 'Hindus',\n",
       " ',',\n",
       " 'throughout',\n",
       " 'the',\n",
       " 'country',\n",
       " '.',\n",
       " 'It',\n",
       " 'is',\n",
       " 'celebrated',\n",
       " 'to',\n",
       " 'commemorate',\n",
       " 'the',\n",
       " 'return',\n",
       " 'of',\n",
       " 'Lord',\n",
       " 'Rama',\n",
       " 'to',\n",
       " 'Ayodhya',\n",
       " 'after',\n",
       " 'an',\n",
       " 'exile',\n",
       " 'of',\n",
       " '12',\n",
       " 'years',\n",
       " '.',\n",
       " 'Rama',\n",
       " 'is',\n",
       " 'a',\n",
       " 'very',\n",
       " 'popular',\n",
       " 'Hindu',\n",
       " 'deity',\n",
       " 'who',\n",
       " 'is',\n",
       " 'revered',\n",
       " 'for',\n",
       " 'his',\n",
       " 'truthfulness',\n",
       " 'and',\n",
       " 'purity',\n",
       " '.']"
      ]
     },
     "execution_count": 49,
     "metadata": {},
     "output_type": "execute_result"
    }
   ],
   "source": [
    "# string \n",
    "\n",
    "sentence = 'Diwali also called “Deepawali” is a major Hindu festival of India. The festival is celebrated with unequal zeal and pleasure by Hindus, throughout the country. It is celebrated to commemorate the return of Lord Rama to Ayodhya after an exile of 12 years. Rama is a very popular Hindu deity who is revered for his truthfulness and purity.'\n",
    "\n",
    "sent_token = word_tokenize(sentence)\n",
    "sent_token"
   ]
  },
  {
   "cell_type": "code",
   "execution_count": 63,
   "metadata": {},
   "outputs": [
    {
     "data": {
      "text/plain": [
       "['Diwali',\n",
       " 'also',\n",
       " 'called',\n",
       " '“',\n",
       " 'Deepawali',\n",
       " '”',\n",
       " 'major',\n",
       " 'Hindu',\n",
       " 'festival',\n",
       " 'India',\n",
       " '.',\n",
       " 'The',\n",
       " 'festival',\n",
       " 'celebrated',\n",
       " 'unequal',\n",
       " 'zeal',\n",
       " 'pleasure',\n",
       " 'Hindus',\n",
       " ',',\n",
       " 'throughout',\n",
       " 'country',\n",
       " '.',\n",
       " 'It',\n",
       " 'celebrated',\n",
       " 'commemorate',\n",
       " 'return',\n",
       " 'Lord',\n",
       " 'Rama',\n",
       " 'Ayodhya',\n",
       " 'exile',\n",
       " '12',\n",
       " 'years',\n",
       " '.',\n",
       " 'Rama',\n",
       " 'popular',\n",
       " 'Hindu',\n",
       " 'deity',\n",
       " 'revered',\n",
       " 'truthfulness',\n",
       " 'purity',\n",
       " '.']"
      ]
     },
     "execution_count": 63,
     "metadata": {},
     "output_type": "execute_result"
    }
   ],
   "source": [
    "new_words = []\n",
    "new_sentence = []\n",
    "\n",
    "for i in range(len(sent_token)):\n",
    "   #print(sent_token[i])\n",
    "    if sent_token[i] not in stopwords.words('english'):\n",
    "        #rint(sent_token[i])\n",
    "        new_words.append(sent_token[i])\n",
    "    \n",
    "new_words\n",
    "\n"
   ]
  },
  {
   "cell_type": "code",
   "execution_count": 64,
   "metadata": {},
   "outputs": [
    {
     "data": {
      "text/plain": [
       "['Diwali also called “ Deepawali ” major Hindu festival India . The festival celebrated unequal zeal pleasure Hindus , throughout country . It celebrated commemorate return Lord Rama Ayodhya exile 12 years . Rama popular Hindu deity revered truthfulness purity .']"
      ]
     },
     "execution_count": 64,
     "metadata": {},
     "output_type": "execute_result"
    }
   ],
   "source": [
    "new_sentence.append(' '.join(new_list))\n",
    "new_sentence"
   ]
  },
  {
   "cell_type": "code",
   "execution_count": null,
   "metadata": {},
   "outputs": [],
   "source": []
  },
  {
   "cell_type": "code",
   "execution_count": null,
   "metadata": {},
   "outputs": [],
   "source": []
  },
  {
   "cell_type": "markdown",
   "metadata": {},
   "source": [
    "## Bag of words :-"
   ]
  },
  {
   "cell_type": "code",
   "execution_count": null,
   "metadata": {},
   "outputs": [],
   "source": []
  }
 ],
 "metadata": {
  "kernelspec": {
   "display_name": "Python 3",
   "language": "python",
   "name": "python3"
  },
  "language_info": {
   "codemirror_mode": {
    "name": "ipython",
    "version": 3
   },
   "file_extension": ".py",
   "mimetype": "text/x-python",
   "name": "python",
   "nbconvert_exporter": "python",
   "pygments_lexer": "ipython3",
   "version": "3.6.8"
  }
 },
 "nbformat": 4,
 "nbformat_minor": 2
}
